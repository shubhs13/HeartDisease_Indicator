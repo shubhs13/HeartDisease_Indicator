{
 "cells": [
  {
   "cell_type": "code",
   "execution_count": 1,
   "id": "51672a3b-ab47-4572-bf4c-2c855c03578f",
   "metadata": {},
   "outputs": [],
   "source": [
    "#imports\n",
    "import os\n",
    "import pandas as pd\n",
    "import random\n",
    "random.seed(1)"
   ]
  },
  {
   "cell_type": "code",
   "execution_count": 3,
   "id": "46b3236f-d47b-4576-8314-fdfdcbc1306a",
   "metadata": {},
   "outputs": [],
   "source": [
    "dataset = pd.read_csv(\"2015.csv\")"
   ]
  },
  {
   "cell_type": "code",
   "execution_count": 51,
   "id": "4c8cfbed-6210-4575-a92c-d8cca20fc5b5",
   "metadata": {},
   "outputs": [
    {
     "data": {
      "text/plain": [
       "(441456, 330)"
      ]
     },
     "execution_count": 51,
     "metadata": {},
     "output_type": "execute_result"
    }
   ],
   "source": [
    "dataset.shape"
   ]
  },
  {
   "cell_type": "code",
   "execution_count": 7,
   "id": "026b1ced-da34-4425-9b0b-ebf88508eebd",
   "metadata": {},
   "outputs": [
    {
     "data": {
      "text/html": [
       "<div>\n",
       "<style scoped>\n",
       "    .dataframe tbody tr th:only-of-type {\n",
       "        vertical-align: middle;\n",
       "    }\n",
       "\n",
       "    .dataframe tbody tr th {\n",
       "        vertical-align: top;\n",
       "    }\n",
       "\n",
       "    .dataframe thead th {\n",
       "        text-align: right;\n",
       "    }\n",
       "</style>\n",
       "<table border=\"1\" class=\"dataframe\">\n",
       "  <thead>\n",
       "    <tr style=\"text-align: right;\">\n",
       "      <th></th>\n",
       "      <th>_STATE</th>\n",
       "      <th>FMONTH</th>\n",
       "      <th>IDATE</th>\n",
       "      <th>IMONTH</th>\n",
       "      <th>IDAY</th>\n",
       "      <th>IYEAR</th>\n",
       "      <th>DISPCODE</th>\n",
       "      <th>SEQNO</th>\n",
       "      <th>_PSU</th>\n",
       "      <th>CTELENUM</th>\n",
       "      <th>...</th>\n",
       "      <th>_PAREC1</th>\n",
       "      <th>_PASTAE1</th>\n",
       "      <th>_LMTACT1</th>\n",
       "      <th>_LMTWRK1</th>\n",
       "      <th>_LMTSCL1</th>\n",
       "      <th>_RFSEAT2</th>\n",
       "      <th>_RFSEAT3</th>\n",
       "      <th>_FLSHOT6</th>\n",
       "      <th>_PNEUMO2</th>\n",
       "      <th>_AIDTST3</th>\n",
       "    </tr>\n",
       "  </thead>\n",
       "  <tbody>\n",
       "    <tr>\n",
       "      <th>0</th>\n",
       "      <td>1.0</td>\n",
       "      <td>1.0</td>\n",
       "      <td>b'01292015'</td>\n",
       "      <td>b'01'</td>\n",
       "      <td>b'29'</td>\n",
       "      <td>b'2015'</td>\n",
       "      <td>1200.0</td>\n",
       "      <td>2.015000e+09</td>\n",
       "      <td>2.015000e+09</td>\n",
       "      <td>1.0</td>\n",
       "      <td>...</td>\n",
       "      <td>4.0</td>\n",
       "      <td>2.0</td>\n",
       "      <td>1.0</td>\n",
       "      <td>1.0</td>\n",
       "      <td>1.0</td>\n",
       "      <td>1.0</td>\n",
       "      <td>1.0</td>\n",
       "      <td>NaN</td>\n",
       "      <td>NaN</td>\n",
       "      <td>1.0</td>\n",
       "    </tr>\n",
       "    <tr>\n",
       "      <th>1</th>\n",
       "      <td>1.0</td>\n",
       "      <td>1.0</td>\n",
       "      <td>b'01202015'</td>\n",
       "      <td>b'01'</td>\n",
       "      <td>b'20'</td>\n",
       "      <td>b'2015'</td>\n",
       "      <td>1100.0</td>\n",
       "      <td>2.015000e+09</td>\n",
       "      <td>2.015000e+09</td>\n",
       "      <td>1.0</td>\n",
       "      <td>...</td>\n",
       "      <td>2.0</td>\n",
       "      <td>2.0</td>\n",
       "      <td>3.0</td>\n",
       "      <td>3.0</td>\n",
       "      <td>4.0</td>\n",
       "      <td>2.0</td>\n",
       "      <td>2.0</td>\n",
       "      <td>NaN</td>\n",
       "      <td>NaN</td>\n",
       "      <td>2.0</td>\n",
       "    </tr>\n",
       "    <tr>\n",
       "      <th>2</th>\n",
       "      <td>1.0</td>\n",
       "      <td>1.0</td>\n",
       "      <td>b'02012015'</td>\n",
       "      <td>b'02'</td>\n",
       "      <td>b'01'</td>\n",
       "      <td>b'2015'</td>\n",
       "      <td>1200.0</td>\n",
       "      <td>2.015000e+09</td>\n",
       "      <td>2.015000e+09</td>\n",
       "      <td>1.0</td>\n",
       "      <td>...</td>\n",
       "      <td>9.0</td>\n",
       "      <td>9.0</td>\n",
       "      <td>9.0</td>\n",
       "      <td>9.0</td>\n",
       "      <td>9.0</td>\n",
       "      <td>9.0</td>\n",
       "      <td>9.0</td>\n",
       "      <td>9.0</td>\n",
       "      <td>9.0</td>\n",
       "      <td>NaN</td>\n",
       "    </tr>\n",
       "    <tr>\n",
       "      <th>3</th>\n",
       "      <td>1.0</td>\n",
       "      <td>1.0</td>\n",
       "      <td>b'01142015'</td>\n",
       "      <td>b'01'</td>\n",
       "      <td>b'14'</td>\n",
       "      <td>b'2015'</td>\n",
       "      <td>1100.0</td>\n",
       "      <td>2.015000e+09</td>\n",
       "      <td>2.015000e+09</td>\n",
       "      <td>1.0</td>\n",
       "      <td>...</td>\n",
       "      <td>4.0</td>\n",
       "      <td>2.0</td>\n",
       "      <td>1.0</td>\n",
       "      <td>1.0</td>\n",
       "      <td>1.0</td>\n",
       "      <td>1.0</td>\n",
       "      <td>1.0</td>\n",
       "      <td>NaN</td>\n",
       "      <td>NaN</td>\n",
       "      <td>9.0</td>\n",
       "    </tr>\n",
       "    <tr>\n",
       "      <th>4</th>\n",
       "      <td>1.0</td>\n",
       "      <td>1.0</td>\n",
       "      <td>b'01142015'</td>\n",
       "      <td>b'01'</td>\n",
       "      <td>b'14'</td>\n",
       "      <td>b'2015'</td>\n",
       "      <td>1100.0</td>\n",
       "      <td>2.015000e+09</td>\n",
       "      <td>2.015000e+09</td>\n",
       "      <td>1.0</td>\n",
       "      <td>...</td>\n",
       "      <td>4.0</td>\n",
       "      <td>2.0</td>\n",
       "      <td>1.0</td>\n",
       "      <td>1.0</td>\n",
       "      <td>1.0</td>\n",
       "      <td>1.0</td>\n",
       "      <td>1.0</td>\n",
       "      <td>NaN</td>\n",
       "      <td>NaN</td>\n",
       "      <td>1.0</td>\n",
       "    </tr>\n",
       "  </tbody>\n",
       "</table>\n",
       "<p>5 rows × 330 columns</p>\n",
       "</div>"
      ],
      "text/plain": [
       "   _STATE  FMONTH        IDATE IMONTH   IDAY    IYEAR  DISPCODE         SEQNO  \\\n",
       "0     1.0     1.0  b'01292015'  b'01'  b'29'  b'2015'    1200.0  2.015000e+09   \n",
       "1     1.0     1.0  b'01202015'  b'01'  b'20'  b'2015'    1100.0  2.015000e+09   \n",
       "2     1.0     1.0  b'02012015'  b'02'  b'01'  b'2015'    1200.0  2.015000e+09   \n",
       "3     1.0     1.0  b'01142015'  b'01'  b'14'  b'2015'    1100.0  2.015000e+09   \n",
       "4     1.0     1.0  b'01142015'  b'01'  b'14'  b'2015'    1100.0  2.015000e+09   \n",
       "\n",
       "           _PSU  CTELENUM  ...  _PAREC1  _PASTAE1  _LMTACT1  _LMTWRK1  \\\n",
       "0  2.015000e+09       1.0  ...      4.0       2.0       1.0       1.0   \n",
       "1  2.015000e+09       1.0  ...      2.0       2.0       3.0       3.0   \n",
       "2  2.015000e+09       1.0  ...      9.0       9.0       9.0       9.0   \n",
       "3  2.015000e+09       1.0  ...      4.0       2.0       1.0       1.0   \n",
       "4  2.015000e+09       1.0  ...      4.0       2.0       1.0       1.0   \n",
       "\n",
       "   _LMTSCL1  _RFSEAT2  _RFSEAT3  _FLSHOT6  _PNEUMO2  _AIDTST3  \n",
       "0       1.0       1.0       1.0       NaN       NaN       1.0  \n",
       "1       4.0       2.0       2.0       NaN       NaN       2.0  \n",
       "2       9.0       9.0       9.0       9.0       9.0       NaN  \n",
       "3       1.0       1.0       1.0       NaN       NaN       9.0  \n",
       "4       1.0       1.0       1.0       NaN       NaN       1.0  \n",
       "\n",
       "[5 rows x 330 columns]"
      ]
     },
     "execution_count": 7,
     "metadata": {},
     "output_type": "execute_result"
    }
   ],
   "source": [
    "dataset.head()"
   ]
  },
  {
   "cell_type": "code",
   "execution_count": 466,
   "id": "d84eca55-ce4d-4f63-9192-109ae81fffe2",
   "metadata": {},
   "outputs": [],
   "source": [
    "# select specific columns\n",
    "df_selected = dataset[[\n",
    "                        '_MICHD','_AGEG5YR', 'SEX', 'WTKG3', 'HTM4', 'TOLDHI2', \n",
    "                       '_RFHYPE5', 'CVDSTRK3', 'EDUCA', 'INCOME2', 'DIFFWALK', \n",
    "                       'ADDEPEV2', 'DIABETE3', 'SMOKE100', '_RFCHOL',\n",
    "                        'HLTHPLN1','MEDCOST','GENHLTH', 'MENTHLTH', 'PHYSHLTH', \n",
    "                         '_BMI5','_RFDRHV5','_FRTLT1','_VEGLT1', '_TOTINDA'\n",
    "                    ]]"
   ]
  },
  {
   "cell_type": "code",
   "execution_count": 468,
   "id": "4134475f-2a5e-4f07-b306-49f057f08c7f",
   "metadata": {},
   "outputs": [
    {
     "data": {
      "text/plain": [
       "(441456, 25)"
      ]
     },
     "execution_count": 468,
     "metadata": {},
     "output_type": "execute_result"
    }
   ],
   "source": [
    "df_selected.shape"
   ]
  },
  {
   "cell_type": "code",
   "execution_count": 470,
   "id": "5380200f-62bb-4cf1-9f95-6a3fb756e88d",
   "metadata": {},
   "outputs": [
    {
     "data": {
      "text/plain": [
       "_MICHD\n",
       "1.0     38633\n",
       "2.0    398881\n",
       "dtype: int64"
      ]
     },
     "execution_count": 470,
     "metadata": {},
     "output_type": "execute_result"
    }
   ],
   "source": [
    "df_selected.groupby(['_MICHD']).size()"
   ]
  },
  {
   "cell_type": "code",
   "execution_count": 349,
   "id": "1f933e84-d725-4b3a-b564-16552366dd35",
   "metadata": {},
   "outputs": [
    {
     "data": {
      "text/html": [
       "<div>\n",
       "<style scoped>\n",
       "    .dataframe tbody tr th:only-of-type {\n",
       "        vertical-align: middle;\n",
       "    }\n",
       "\n",
       "    .dataframe tbody tr th {\n",
       "        vertical-align: top;\n",
       "    }\n",
       "\n",
       "    .dataframe thead th {\n",
       "        text-align: right;\n",
       "    }\n",
       "</style>\n",
       "<table border=\"1\" class=\"dataframe\">\n",
       "  <thead>\n",
       "    <tr style=\"text-align: right;\">\n",
       "      <th></th>\n",
       "      <th>_MICHD</th>\n",
       "      <th>_AGEG5YR</th>\n",
       "      <th>SEX</th>\n",
       "      <th>WTKG3</th>\n",
       "      <th>HTM4</th>\n",
       "      <th>TOLDHI2</th>\n",
       "      <th>_RFHYPE5</th>\n",
       "      <th>CVDSTRK3</th>\n",
       "      <th>EDUCA</th>\n",
       "      <th>INCOME2</th>\n",
       "      <th>...</th>\n",
       "      <th>HLTHPLN1</th>\n",
       "      <th>MEDCOST</th>\n",
       "      <th>GENHLTH</th>\n",
       "      <th>MENTHLTH</th>\n",
       "      <th>PHYSHLTH</th>\n",
       "      <th>_BMI5</th>\n",
       "      <th>_RFDRHV5</th>\n",
       "      <th>_FRTLT1</th>\n",
       "      <th>_VEGLT1</th>\n",
       "      <th>PA1MIN_</th>\n",
       "    </tr>\n",
       "  </thead>\n",
       "  <tbody>\n",
       "    <tr>\n",
       "      <th>0</th>\n",
       "      <td>2.0</td>\n",
       "      <td>9.0</td>\n",
       "      <td>2.0</td>\n",
       "      <td>12701.0</td>\n",
       "      <td>178.0</td>\n",
       "      <td>1.0</td>\n",
       "      <td>2.0</td>\n",
       "      <td>2.0</td>\n",
       "      <td>4.0</td>\n",
       "      <td>3.0</td>\n",
       "      <td>...</td>\n",
       "      <td>1.0</td>\n",
       "      <td>2.0</td>\n",
       "      <td>5.0</td>\n",
       "      <td>18.0</td>\n",
       "      <td>15.0</td>\n",
       "      <td>4018.0</td>\n",
       "      <td>1.0</td>\n",
       "      <td>2.0</td>\n",
       "      <td>1.0</td>\n",
       "      <td>NaN</td>\n",
       "    </tr>\n",
       "    <tr>\n",
       "      <th>1</th>\n",
       "      <td>2.0</td>\n",
       "      <td>7.0</td>\n",
       "      <td>2.0</td>\n",
       "      <td>7484.0</td>\n",
       "      <td>173.0</td>\n",
       "      <td>2.0</td>\n",
       "      <td>1.0</td>\n",
       "      <td>2.0</td>\n",
       "      <td>6.0</td>\n",
       "      <td>1.0</td>\n",
       "      <td>...</td>\n",
       "      <td>2.0</td>\n",
       "      <td>1.0</td>\n",
       "      <td>3.0</td>\n",
       "      <td>88.0</td>\n",
       "      <td>88.0</td>\n",
       "      <td>2509.0</td>\n",
       "      <td>1.0</td>\n",
       "      <td>2.0</td>\n",
       "      <td>2.0</td>\n",
       "      <td>168.0</td>\n",
       "    </tr>\n",
       "    <tr>\n",
       "      <th>2</th>\n",
       "      <td>NaN</td>\n",
       "      <td>11.0</td>\n",
       "      <td>2.0</td>\n",
       "      <td>7167.0</td>\n",
       "      <td>180.0</td>\n",
       "      <td>1.0</td>\n",
       "      <td>1.0</td>\n",
       "      <td>1.0</td>\n",
       "      <td>4.0</td>\n",
       "      <td>99.0</td>\n",
       "      <td>...</td>\n",
       "      <td>1.0</td>\n",
       "      <td>2.0</td>\n",
       "      <td>4.0</td>\n",
       "      <td>88.0</td>\n",
       "      <td>15.0</td>\n",
       "      <td>2204.0</td>\n",
       "      <td>9.0</td>\n",
       "      <td>9.0</td>\n",
       "      <td>9.0</td>\n",
       "      <td>NaN</td>\n",
       "    </tr>\n",
       "    <tr>\n",
       "      <th>3</th>\n",
       "      <td>2.0</td>\n",
       "      <td>9.0</td>\n",
       "      <td>2.0</td>\n",
       "      <td>8165.0</td>\n",
       "      <td>170.0</td>\n",
       "      <td>1.0</td>\n",
       "      <td>2.0</td>\n",
       "      <td>2.0</td>\n",
       "      <td>4.0</td>\n",
       "      <td>8.0</td>\n",
       "      <td>...</td>\n",
       "      <td>1.0</td>\n",
       "      <td>1.0</td>\n",
       "      <td>5.0</td>\n",
       "      <td>30.0</td>\n",
       "      <td>30.0</td>\n",
       "      <td>2819.0</td>\n",
       "      <td>1.0</td>\n",
       "      <td>1.0</td>\n",
       "      <td>2.0</td>\n",
       "      <td>NaN</td>\n",
       "    </tr>\n",
       "    <tr>\n",
       "      <th>4</th>\n",
       "      <td>2.0</td>\n",
       "      <td>9.0</td>\n",
       "      <td>2.0</td>\n",
       "      <td>6441.0</td>\n",
       "      <td>163.0</td>\n",
       "      <td>2.0</td>\n",
       "      <td>1.0</td>\n",
       "      <td>2.0</td>\n",
       "      <td>5.0</td>\n",
       "      <td>77.0</td>\n",
       "      <td>...</td>\n",
       "      <td>1.0</td>\n",
       "      <td>2.0</td>\n",
       "      <td>5.0</td>\n",
       "      <td>88.0</td>\n",
       "      <td>20.0</td>\n",
       "      <td>2437.0</td>\n",
       "      <td>1.0</td>\n",
       "      <td>9.0</td>\n",
       "      <td>1.0</td>\n",
       "      <td>NaN</td>\n",
       "    </tr>\n",
       "  </tbody>\n",
       "</table>\n",
       "<p>5 rows × 25 columns</p>\n",
       "</div>"
      ],
      "text/plain": [
       "   _MICHD  _AGEG5YR  SEX    WTKG3   HTM4  TOLDHI2  _RFHYPE5  CVDSTRK3  EDUCA  \\\n",
       "0     2.0       9.0  2.0  12701.0  178.0      1.0       2.0       2.0    4.0   \n",
       "1     2.0       7.0  2.0   7484.0  173.0      2.0       1.0       2.0    6.0   \n",
       "2     NaN      11.0  2.0   7167.0  180.0      1.0       1.0       1.0    4.0   \n",
       "3     2.0       9.0  2.0   8165.0  170.0      1.0       2.0       2.0    4.0   \n",
       "4     2.0       9.0  2.0   6441.0  163.0      2.0       1.0       2.0    5.0   \n",
       "\n",
       "   INCOME2  ...  HLTHPLN1  MEDCOST  GENHLTH  MENTHLTH  PHYSHLTH   _BMI5  \\\n",
       "0      3.0  ...       1.0      2.0      5.0      18.0      15.0  4018.0   \n",
       "1      1.0  ...       2.0      1.0      3.0      88.0      88.0  2509.0   \n",
       "2     99.0  ...       1.0      2.0      4.0      88.0      15.0  2204.0   \n",
       "3      8.0  ...       1.0      1.0      5.0      30.0      30.0  2819.0   \n",
       "4     77.0  ...       1.0      2.0      5.0      88.0      20.0  2437.0   \n",
       "\n",
       "   _RFDRHV5  _FRTLT1  _VEGLT1  PA1MIN_  \n",
       "0       1.0      2.0      1.0      NaN  \n",
       "1       1.0      2.0      2.0    168.0  \n",
       "2       9.0      9.0      9.0      NaN  \n",
       "3       1.0      1.0      2.0      NaN  \n",
       "4       1.0      9.0      1.0      NaN  \n",
       "\n",
       "[5 rows x 25 columns]"
      ]
     },
     "execution_count": 349,
     "metadata": {},
     "output_type": "execute_result"
    }
   ],
   "source": [
    "df_selected.head()"
   ]
  },
  {
   "cell_type": "code",
   "execution_count": 385,
   "id": "fd4d5459-e0ba-4ab4-aec0-1166b818db0b",
   "metadata": {},
   "outputs": [],
   "source": [
    "df_selected = df_selected.dropna()"
   ]
  },
  {
   "cell_type": "code",
   "execution_count": 387,
   "id": "cf302a0a-8dd9-4609-a8ba-e6ebdfc0dbdf",
   "metadata": {},
   "outputs": [
    {
     "data": {
      "text/plain": [
       "(343606, 25)"
      ]
     },
     "execution_count": 387,
     "metadata": {},
     "output_type": "execute_result"
    }
   ],
   "source": [
    "df_selected.shape"
   ]
  },
  {
   "cell_type": "code",
   "execution_count": 389,
   "id": "3f13e57d-89de-48aa-aac9-5c092145d0c8",
   "metadata": {},
   "outputs": [
    {
     "data": {
      "text/plain": [
       "array([0., 1.])"
      ]
     },
     "execution_count": 389,
     "metadata": {},
     "output_type": "execute_result"
    }
   ],
   "source": [
    "# _MICHD\n",
    "\n",
    "#Change 2 to 0 because this means did not have MI or CHD\n",
    "df_selected.loc[:, '_MICHD'] = df_selected['_MICHD'].replace({2: 0})\n",
    "df_selected._MICHD.unique()"
   ]
  },
  {
   "cell_type": "code",
   "execution_count": 391,
   "id": "f2a50c25-d2c5-45fb-b8ee-6baab6b23589",
   "metadata": {},
   "outputs": [
    {
     "data": {
      "text/plain": [
       "array([1., 0.])"
      ]
     },
     "execution_count": 391,
     "metadata": {},
     "output_type": "execute_result"
    }
   ],
   "source": [
    "#1 _RFHYPE5\n",
    "#Change 1 to 0 so it represetnts No high blood pressure and 2 to 1 so it represents high blood pressure\n",
    "\n",
    "# Update values to represent high blood pressure (1) and no high blood pressure (0)\n",
    "df_selected.loc[:, '_RFHYPE5'] = df_selected['_RFHYPE5'].replace({1: 0, 2: 1})\n",
    "\n",
    "df_selected = df_selected[df_selected['_RFHYPE5'] != 9]\n",
    "\n",
    "# Check unique values\n",
    "df_selected['_RFHYPE5'].unique()\n"
   ]
  },
  {
   "cell_type": "code",
   "execution_count": 393,
   "id": "88bc176b-9d0a-4756-92f5-7877c1e5b7e0",
   "metadata": {},
   "outputs": [
    {
     "data": {
      "text/plain": [
       "array([1., 0.])"
      ]
     },
     "execution_count": 393,
     "metadata": {},
     "output_type": "execute_result"
    }
   ],
   "source": [
    "#2 TOLDHI2\n",
    "# Change 2 to 0 because it is No\n",
    "# Remove all 7 (dont knows)\n",
    "# Remove all 9 (refused)\n",
    "\n",
    "# Replace 2 with 0 in the 'TOLDHI2' column\n",
    "df_selected.loc[:, 'TOLDHI2'] = df_selected['TOLDHI2'].replace({2: 0})\n",
    "\n",
    "# Remove rows where 'TOLDHI2' is 7 or 9\n",
    "df_selected = df_selected[df_selected['TOLDHI2'] != 7]\n",
    "df_selected = df_selected[df_selected['TOLDHI2'] != 9]\n",
    "\n",
    "\n",
    "# Check unique values in 'TOLDHI2'\n",
    "df_selected['TOLDHI2'].unique()\n"
   ]
  },
  {
   "cell_type": "code",
   "execution_count": 395,
   "id": "2bf9f489-f7aa-47cd-bb14-02b7057c44c8",
   "metadata": {},
   "outputs": [
    {
     "ename": "KeyError",
     "evalue": "'CHOLCHK'",
     "output_type": "error",
     "traceback": [
      "\u001b[0;31m---------------------------------------------------------------------------\u001b[0m",
      "\u001b[0;31mKeyError\u001b[0m                                  Traceback (most recent call last)",
      "File \u001b[0;32m/opt/anaconda3/lib/python3.12/site-packages/pandas/core/indexes/base.py:3805\u001b[0m, in \u001b[0;36mIndex.get_loc\u001b[0;34m(self, key)\u001b[0m\n\u001b[1;32m   3804\u001b[0m \u001b[38;5;28;01mtry\u001b[39;00m:\n\u001b[0;32m-> 3805\u001b[0m     \u001b[38;5;28;01mreturn\u001b[39;00m \u001b[38;5;28mself\u001b[39m\u001b[38;5;241m.\u001b[39m_engine\u001b[38;5;241m.\u001b[39mget_loc(casted_key)\n\u001b[1;32m   3806\u001b[0m \u001b[38;5;28;01mexcept\u001b[39;00m \u001b[38;5;167;01mKeyError\u001b[39;00m \u001b[38;5;28;01mas\u001b[39;00m err:\n",
      "File \u001b[0;32mindex.pyx:167\u001b[0m, in \u001b[0;36mpandas._libs.index.IndexEngine.get_loc\u001b[0;34m()\u001b[0m\n",
      "File \u001b[0;32mindex.pyx:196\u001b[0m, in \u001b[0;36mpandas._libs.index.IndexEngine.get_loc\u001b[0;34m()\u001b[0m\n",
      "File \u001b[0;32mpandas/_libs/hashtable_class_helper.pxi:7081\u001b[0m, in \u001b[0;36mpandas._libs.hashtable.PyObjectHashTable.get_item\u001b[0;34m()\u001b[0m\n",
      "File \u001b[0;32mpandas/_libs/hashtable_class_helper.pxi:7089\u001b[0m, in \u001b[0;36mpandas._libs.hashtable.PyObjectHashTable.get_item\u001b[0;34m()\u001b[0m\n",
      "\u001b[0;31mKeyError\u001b[0m: 'CHOLCHK'",
      "\nThe above exception was the direct cause of the following exception:\n",
      "\u001b[0;31mKeyError\u001b[0m                                  Traceback (most recent call last)",
      "Cell \u001b[0;32mIn[395], line 4\u001b[0m\n\u001b[1;32m      1\u001b[0m \u001b[38;5;66;03m#3 Cholchk\u001b[39;00m\n\u001b[1;32m      2\u001b[0m \u001b[38;5;66;03m# Change 3 and 4 to 0 for 'Not checked cholesterol in past 5 years\u001b[39;00m\n\u001b[1;32m      3\u001b[0m \u001b[38;5;66;03m#Change 2 to 1 as check is within past 2 years\u001b[39;00m\n\u001b[0;32m----> 4\u001b[0m df_selected\u001b[38;5;241m.\u001b[39mloc[:, \u001b[38;5;124m'\u001b[39m\u001b[38;5;124mCHOLCHK\u001b[39m\u001b[38;5;124m'\u001b[39m] \u001b[38;5;241m=\u001b[39m df_selected[\u001b[38;5;124m'\u001b[39m\u001b[38;5;124mCHOLCHK\u001b[39m\u001b[38;5;124m'\u001b[39m]\u001b[38;5;241m.\u001b[39mreplace({\u001b[38;5;241m3\u001b[39m: \u001b[38;5;241m0\u001b[39m, \u001b[38;5;241m4\u001b[39m: \u001b[38;5;241m0\u001b[39m})\n\u001b[1;32m      5\u001b[0m df_selected\u001b[38;5;241m.\u001b[39mloc[:, \u001b[38;5;124m'\u001b[39m\u001b[38;5;124mCHOLCHK\u001b[39m\u001b[38;5;124m'\u001b[39m] \u001b[38;5;241m=\u001b[39m df_selected[\u001b[38;5;124m'\u001b[39m\u001b[38;5;124mCHOLCHK\u001b[39m\u001b[38;5;124m'\u001b[39m]\u001b[38;5;241m.\u001b[39mreplace({\u001b[38;5;241m2\u001b[39m: \u001b[38;5;241m1\u001b[39m})\n\u001b[1;32m      7\u001b[0m \u001b[38;5;66;03m# Remove rows where '_CHOLCHK' is 9\u001b[39;00m\n",
      "File \u001b[0;32m/opt/anaconda3/lib/python3.12/site-packages/pandas/core/frame.py:4102\u001b[0m, in \u001b[0;36mDataFrame.__getitem__\u001b[0;34m(self, key)\u001b[0m\n\u001b[1;32m   4100\u001b[0m \u001b[38;5;28;01mif\u001b[39;00m \u001b[38;5;28mself\u001b[39m\u001b[38;5;241m.\u001b[39mcolumns\u001b[38;5;241m.\u001b[39mnlevels \u001b[38;5;241m>\u001b[39m \u001b[38;5;241m1\u001b[39m:\n\u001b[1;32m   4101\u001b[0m     \u001b[38;5;28;01mreturn\u001b[39;00m \u001b[38;5;28mself\u001b[39m\u001b[38;5;241m.\u001b[39m_getitem_multilevel(key)\n\u001b[0;32m-> 4102\u001b[0m indexer \u001b[38;5;241m=\u001b[39m \u001b[38;5;28mself\u001b[39m\u001b[38;5;241m.\u001b[39mcolumns\u001b[38;5;241m.\u001b[39mget_loc(key)\n\u001b[1;32m   4103\u001b[0m \u001b[38;5;28;01mif\u001b[39;00m is_integer(indexer):\n\u001b[1;32m   4104\u001b[0m     indexer \u001b[38;5;241m=\u001b[39m [indexer]\n",
      "File \u001b[0;32m/opt/anaconda3/lib/python3.12/site-packages/pandas/core/indexes/base.py:3812\u001b[0m, in \u001b[0;36mIndex.get_loc\u001b[0;34m(self, key)\u001b[0m\n\u001b[1;32m   3807\u001b[0m     \u001b[38;5;28;01mif\u001b[39;00m \u001b[38;5;28misinstance\u001b[39m(casted_key, \u001b[38;5;28mslice\u001b[39m) \u001b[38;5;129;01mor\u001b[39;00m (\n\u001b[1;32m   3808\u001b[0m         \u001b[38;5;28misinstance\u001b[39m(casted_key, abc\u001b[38;5;241m.\u001b[39mIterable)\n\u001b[1;32m   3809\u001b[0m         \u001b[38;5;129;01mand\u001b[39;00m \u001b[38;5;28many\u001b[39m(\u001b[38;5;28misinstance\u001b[39m(x, \u001b[38;5;28mslice\u001b[39m) \u001b[38;5;28;01mfor\u001b[39;00m x \u001b[38;5;129;01min\u001b[39;00m casted_key)\n\u001b[1;32m   3810\u001b[0m     ):\n\u001b[1;32m   3811\u001b[0m         \u001b[38;5;28;01mraise\u001b[39;00m InvalidIndexError(key)\n\u001b[0;32m-> 3812\u001b[0m     \u001b[38;5;28;01mraise\u001b[39;00m \u001b[38;5;167;01mKeyError\u001b[39;00m(key) \u001b[38;5;28;01mfrom\u001b[39;00m \u001b[38;5;21;01merr\u001b[39;00m\n\u001b[1;32m   3813\u001b[0m \u001b[38;5;28;01mexcept\u001b[39;00m \u001b[38;5;167;01mTypeError\u001b[39;00m:\n\u001b[1;32m   3814\u001b[0m     \u001b[38;5;66;03m# If we have a listlike key, _check_indexing_error will raise\u001b[39;00m\n\u001b[1;32m   3815\u001b[0m     \u001b[38;5;66;03m#  InvalidIndexError. Otherwise we fall through and re-raise\u001b[39;00m\n\u001b[1;32m   3816\u001b[0m     \u001b[38;5;66;03m#  the TypeError.\u001b[39;00m\n\u001b[1;32m   3817\u001b[0m     \u001b[38;5;28mself\u001b[39m\u001b[38;5;241m.\u001b[39m_check_indexing_error(key)\n",
      "\u001b[0;31mKeyError\u001b[0m: 'CHOLCHK'"
     ]
    }
   ],
   "source": [
    "#3 Cholchk\n",
    "# Change 3 and 4 to 0 for 'Not checked cholesterol in past 5 years\n",
    "#Change 2 to 1 as check is within past 2 years\n",
    "df_selected.loc[:, 'CHOLCHK'] = df_selected['CHOLCHK'].replace({3: 0, 4: 0})\n",
    "df_selected.loc[:, 'CHOLCHK'] = df_selected['CHOLCHK'].replace({2: 1})\n",
    "\n",
    "# Remove rows where '_CHOLCHK' is 9\n",
    "df_selected = df_selected[df_selected['CHOLCHK'] != 9]\n",
    "df_selected = df_selected[df_selected['CHOLCHK'] != 7]\n",
    "\n",
    "# Check unique values in '_CHOLCHK'\n",
    "df_selected['CHOLCHK'].unique()\n"
   ]
  },
  {
   "cell_type": "code",
   "execution_count": 397,
   "id": "12570a12-34cf-44a9-8f06-0639262f0d86",
   "metadata": {},
   "outputs": [
    {
     "data": {
      "text/plain": [
       "array([40., 25., 28., 24., 27., 30., 26., 23., 34., 31., 33., 21., 22.,\n",
       "       38., 20., 19., 32., 46., 41., 37., 36., 29., 35., 18., 54., 45.,\n",
       "       39., 47., 43., 55., 49., 42., 17., 16., 48., 44., 50., 59., 15.,\n",
       "       52., 53., 57., 51., 14., 58., 63., 61., 56., 60., 74., 62., 64.,\n",
       "       13., 66., 73., 65., 68., 85., 71., 84., 67., 70., 82., 79., 92.,\n",
       "       72., 88., 96., 81., 12., 77., 95., 75., 91., 69., 76., 87., 89.,\n",
       "       83., 98., 86., 80., 90., 78., 97.])"
      ]
     },
     "execution_count": 397,
     "metadata": {},
     "output_type": "execute_result"
    }
   ],
   "source": [
    "#4 bmi5\n",
    "# Divide '_BMI5' by 100 and round it for easier analysis\n",
    "\n",
    "df_selected.loc[:, '_BMI5'] = df_selected['_BMI5'].div(100).round(0)\n",
    "\n",
    "# Check unique values in '_BMI5'\n",
    "df_selected['_BMI5'].unique()\n"
   ]
  },
  {
   "cell_type": "code",
   "execution_count": 399,
   "id": "cf750ed9-ea44-4507-8db9-7bee27bb45d2",
   "metadata": {},
   "outputs": [
    {
     "data": {
      "text/plain": [
       "array([1., 0.])"
      ]
     },
     "execution_count": 399,
     "metadata": {},
     "output_type": "execute_result"
    }
   ],
   "source": [
    "#5 smoke100\n",
    "# Change 2 to 0 because it represents \"No\" in 'SMOKE100'\n",
    "\n",
    "df_selected.loc[:, 'SMOKE100'] = df_selected['SMOKE100'].replace({2: 0})\n",
    "\n",
    "# Remove rows where 'SMOKE100' is 7 (Don't know) or 9 (Refused)\n",
    "df_selected = df_selected[df_selected.SMOKE100 != 7]\n",
    "df_selected = df_selected[df_selected.SMOKE100 != 9]\n",
    "\n",
    "# Check unique values in 'SMOKE100'\n",
    "df_selected['SMOKE100'].unique()\n"
   ]
  },
  {
   "cell_type": "code",
   "execution_count": 401,
   "id": "d8db4b34-58e8-4136-af94-37e33e8dee40",
   "metadata": {},
   "outputs": [
    {
     "data": {
      "text/plain": [
       "array([0., 1.])"
      ]
     },
     "execution_count": 401,
     "metadata": {},
     "output_type": "execute_result"
    }
   ],
   "source": [
    "#6 cvdstrk3\n",
    "# Change 2 to 0 because it represents \"No\" in 'CVDSTRK3'\n",
    "df_selected.loc[:, 'CVDSTRK3'] = df_selected['CVDSTRK3'].replace({2: 0})\n",
    "\n",
    "# Remove rows where 'CVDSTRK3' is 7 (Don't know) or 9 (Refused)\n",
    "df_selected = df_selected[df_selected.CVDSTRK3 != 7]\n",
    "df_selected = df_selected[df_selected.CVDSTRK3 != 9]\n",
    "\n",
    "# Check unique values in 'CVDSTRK3'\n",
    "df_selected['CVDSTRK3'].unique()\n"
   ]
  },
  {
   "cell_type": "code",
   "execution_count": 403,
   "id": "a836322f-e23c-47dc-a09b-721d4935fddb",
   "metadata": {},
   "outputs": [
    {
     "data": {
      "text/plain": [
       "array([0., 2., 1.])"
      ]
     },
     "execution_count": 403,
     "metadata": {},
     "output_type": "execute_result"
    }
   ],
   "source": [
    "#7 diabete3\n",
    "# Replace values in 'DIABETE3' to make it ordinal \n",
    "#0 is for no diabetes or only during pregnancy, 1 is for pre-diabetes or borderline diabetes, 2 is for yes diabetes\n",
    "\n",
    "df_selected.loc[:, 'DIABETE3'] = df_selected['DIABETE3'].replace({2:0, 3:0, 1:2, 4:1})\n",
    "\n",
    "# Remove rows where 'DIABETE3' is 7 (Don't know) or 9 (Refused)\n",
    "df_selected = df_selected[df_selected.DIABETE3 != 7]\n",
    "df_selected = df_selected[df_selected.DIABETE3 != 9]\n",
    "\n",
    "# Check unique values in 'DIABETE3'\n",
    "df_selected['DIABETE3'].unique()\n"
   ]
  },
  {
   "cell_type": "code",
   "execution_count": 405,
   "id": "2d120abd-320d-4ab3-8442-8ed714f15bd7",
   "metadata": {},
   "outputs": [
    {
     "ename": "KeyError",
     "evalue": "'EXERANY2'",
     "output_type": "error",
     "traceback": [
      "\u001b[0;31m---------------------------------------------------------------------------\u001b[0m",
      "\u001b[0;31mKeyError\u001b[0m                                  Traceback (most recent call last)",
      "File \u001b[0;32m/opt/anaconda3/lib/python3.12/site-packages/pandas/core/indexes/base.py:3805\u001b[0m, in \u001b[0;36mIndex.get_loc\u001b[0;34m(self, key)\u001b[0m\n\u001b[1;32m   3804\u001b[0m \u001b[38;5;28;01mtry\u001b[39;00m:\n\u001b[0;32m-> 3805\u001b[0m     \u001b[38;5;28;01mreturn\u001b[39;00m \u001b[38;5;28mself\u001b[39m\u001b[38;5;241m.\u001b[39m_engine\u001b[38;5;241m.\u001b[39mget_loc(casted_key)\n\u001b[1;32m   3806\u001b[0m \u001b[38;5;28;01mexcept\u001b[39;00m \u001b[38;5;167;01mKeyError\u001b[39;00m \u001b[38;5;28;01mas\u001b[39;00m err:\n",
      "File \u001b[0;32mindex.pyx:167\u001b[0m, in \u001b[0;36mpandas._libs.index.IndexEngine.get_loc\u001b[0;34m()\u001b[0m\n",
      "File \u001b[0;32mindex.pyx:196\u001b[0m, in \u001b[0;36mpandas._libs.index.IndexEngine.get_loc\u001b[0;34m()\u001b[0m\n",
      "File \u001b[0;32mpandas/_libs/hashtable_class_helper.pxi:7081\u001b[0m, in \u001b[0;36mpandas._libs.hashtable.PyObjectHashTable.get_item\u001b[0;34m()\u001b[0m\n",
      "File \u001b[0;32mpandas/_libs/hashtable_class_helper.pxi:7089\u001b[0m, in \u001b[0;36mpandas._libs.hashtable.PyObjectHashTable.get_item\u001b[0;34m()\u001b[0m\n",
      "\u001b[0;31mKeyError\u001b[0m: 'EXERANY2'",
      "\nThe above exception was the direct cause of the following exception:\n",
      "\u001b[0;31mKeyError\u001b[0m                                  Traceback (most recent call last)",
      "Cell \u001b[0;32mIn[405], line 1\u001b[0m\n\u001b[0;32m----> 1\u001b[0m \u001b[38;5;28mprint\u001b[39m(df_selected[\u001b[38;5;124m'\u001b[39m\u001b[38;5;124mEXERANY2\u001b[39m\u001b[38;5;124m'\u001b[39m]\u001b[38;5;241m.\u001b[39munique())\n",
      "File \u001b[0;32m/opt/anaconda3/lib/python3.12/site-packages/pandas/core/frame.py:4102\u001b[0m, in \u001b[0;36mDataFrame.__getitem__\u001b[0;34m(self, key)\u001b[0m\n\u001b[1;32m   4100\u001b[0m \u001b[38;5;28;01mif\u001b[39;00m \u001b[38;5;28mself\u001b[39m\u001b[38;5;241m.\u001b[39mcolumns\u001b[38;5;241m.\u001b[39mnlevels \u001b[38;5;241m>\u001b[39m \u001b[38;5;241m1\u001b[39m:\n\u001b[1;32m   4101\u001b[0m     \u001b[38;5;28;01mreturn\u001b[39;00m \u001b[38;5;28mself\u001b[39m\u001b[38;5;241m.\u001b[39m_getitem_multilevel(key)\n\u001b[0;32m-> 4102\u001b[0m indexer \u001b[38;5;241m=\u001b[39m \u001b[38;5;28mself\u001b[39m\u001b[38;5;241m.\u001b[39mcolumns\u001b[38;5;241m.\u001b[39mget_loc(key)\n\u001b[1;32m   4103\u001b[0m \u001b[38;5;28;01mif\u001b[39;00m is_integer(indexer):\n\u001b[1;32m   4104\u001b[0m     indexer \u001b[38;5;241m=\u001b[39m [indexer]\n",
      "File \u001b[0;32m/opt/anaconda3/lib/python3.12/site-packages/pandas/core/indexes/base.py:3812\u001b[0m, in \u001b[0;36mIndex.get_loc\u001b[0;34m(self, key)\u001b[0m\n\u001b[1;32m   3807\u001b[0m     \u001b[38;5;28;01mif\u001b[39;00m \u001b[38;5;28misinstance\u001b[39m(casted_key, \u001b[38;5;28mslice\u001b[39m) \u001b[38;5;129;01mor\u001b[39;00m (\n\u001b[1;32m   3808\u001b[0m         \u001b[38;5;28misinstance\u001b[39m(casted_key, abc\u001b[38;5;241m.\u001b[39mIterable)\n\u001b[1;32m   3809\u001b[0m         \u001b[38;5;129;01mand\u001b[39;00m \u001b[38;5;28many\u001b[39m(\u001b[38;5;28misinstance\u001b[39m(x, \u001b[38;5;28mslice\u001b[39m) \u001b[38;5;28;01mfor\u001b[39;00m x \u001b[38;5;129;01min\u001b[39;00m casted_key)\n\u001b[1;32m   3810\u001b[0m     ):\n\u001b[1;32m   3811\u001b[0m         \u001b[38;5;28;01mraise\u001b[39;00m InvalidIndexError(key)\n\u001b[0;32m-> 3812\u001b[0m     \u001b[38;5;28;01mraise\u001b[39;00m \u001b[38;5;167;01mKeyError\u001b[39;00m(key) \u001b[38;5;28;01mfrom\u001b[39;00m \u001b[38;5;21;01merr\u001b[39;00m\n\u001b[1;32m   3813\u001b[0m \u001b[38;5;28;01mexcept\u001b[39;00m \u001b[38;5;167;01mTypeError\u001b[39;00m:\n\u001b[1;32m   3814\u001b[0m     \u001b[38;5;66;03m# If we have a listlike key, _check_indexing_error will raise\u001b[39;00m\n\u001b[1;32m   3815\u001b[0m     \u001b[38;5;66;03m#  InvalidIndexError. Otherwise we fall through and re-raise\u001b[39;00m\n\u001b[1;32m   3816\u001b[0m     \u001b[38;5;66;03m#  the TypeError.\u001b[39;00m\n\u001b[1;32m   3817\u001b[0m     \u001b[38;5;28mself\u001b[39m\u001b[38;5;241m.\u001b[39m_check_indexing_error(key)\n",
      "\u001b[0;31mKeyError\u001b[0m: 'EXERANY2'"
     ]
    }
   ],
   "source": [
    "print(df_selected['EXERANY2'].unique())  # Check the unique values before replacement\n"
   ]
  },
  {
   "cell_type": "code",
   "execution_count": 407,
   "id": "4e3a66e5-b320-4300-bdf1-4b39509d78ad",
   "metadata": {},
   "outputs": [
    {
     "data": {
      "text/plain": [
       "array([0., 1.])"
      ]
     },
     "execution_count": 407,
     "metadata": {},
     "output_type": "execute_result"
    }
   ],
   "source": [
    "#8 _TOTINDA\n",
    "# 1 for physical activity\n",
    "# change 2 to 0 for no physical activity\n",
    "# Remove all 9 (don't know/refused)\n",
    "df_selected.loc[:, '_TOTINDA'] = df_selected['_TOTINDA'].replace({2: 0})\n",
    "df_selected = df_selected[df_selected._TOTINDA != 9]\n",
    "df_selected._TOTINDA.unique()"
   ]
  },
  {
   "cell_type": "code",
   "execution_count": 409,
   "id": "bc30b418-6568-471a-a769-79881833b64b",
   "metadata": {},
   "outputs": [
    {
     "name": "stdout",
     "output_type": "stream",
     "text": [
      "[0. 1.]\n"
     ]
    }
   ],
   "source": [
    "#9 _FRTLT1\n",
    "# Change 2 to 0. this means no fruit consumed per day. 1 will mean consumed 1 or more pieces of fruit per day \n",
    "# remove all dont knows and missing 9\n",
    "# Replace 2 with 0 (No fruit consumed per day)\n",
    "df_selected.loc[:, '_FRTLT1'] = df_selected['_FRTLT1'].replace({2: 0})\n",
    "\n",
    "# Remove rows where '_FRTLT1' is 9 (Don't know) or missing\n",
    "df_selected = df_selected[df_selected['_FRTLT1'] != 9]\n",
    "\n",
    "# Check unique values in '_FRTLT1'\n",
    "print(df_selected['_FRTLT1'].unique())  # Should show [0, 1]\n"
   ]
  },
  {
   "cell_type": "code",
   "execution_count": 411,
   "id": "b2501b18-c9cb-42ff-b2d2-1ade148dea05",
   "metadata": {},
   "outputs": [
    {
     "data": {
      "text/plain": [
       "array([1., 0.])"
      ]
     },
     "execution_count": 411,
     "metadata": {},
     "output_type": "execute_result"
    }
   ],
   "source": [
    "#10 _VEGLT1\n",
    "# Change 2 to 0. this means no vegetables consumed per day. 1 will mean consumed 1 or more pieces of vegetable per day \n",
    "# remove all dont knows and missing 9\n",
    "df_selected.loc[:, '_VEGLT1'] = df_selected['_VEGLT1'].replace({2: 0})\n",
    "df_selected = df_selected[df_selected._VEGLT1 != 9]\n",
    "df_selected._VEGLT1.unique()"
   ]
  },
  {
   "cell_type": "code",
   "execution_count": 413,
   "id": "1434ad43-62f5-4c82-92ec-c5e520387dd2",
   "metadata": {},
   "outputs": [
    {
     "data": {
      "text/plain": [
       "array([0., 1.])"
      ]
     },
     "execution_count": 413,
     "metadata": {},
     "output_type": "execute_result"
    }
   ],
   "source": [
    "#11 _RFDRHV5\n",
    "# Change 1 to 0 (1 was no for heavy drinking). change all 2 to 1 (2 was yes for heavy drinking)\n",
    "# remove all dont knows and missing 9\n",
    "df_selected.loc[:, '_RFDRHV5'] = df_selected['_RFDRHV5'].replace({1:0, 2:1})\n",
    "df_selected = df_selected[df_selected._RFDRHV5 != 9]\n",
    "df_selected._RFDRHV5.unique()"
   ]
  },
  {
   "cell_type": "code",
   "execution_count": 415,
   "id": "c8703b30-e677-4432-9169-7942e9493bd5",
   "metadata": {},
   "outputs": [
    {
     "data": {
      "text/plain": [
       "array([1., 0.])"
      ]
     },
     "execution_count": 415,
     "metadata": {},
     "output_type": "execute_result"
    }
   ],
   "source": [
    "#12 HLTHPLN1\n",
    "# 1 is yes, change 2 to 0 because it is No health care access\n",
    "# remove 7 and 9 for don't know or refused\n",
    "df_selected.loc[:, 'HLTHPLN1'] = df_selected['HLTHPLN1'].replace({2:0})\n",
    "df_selected = df_selected[df_selected.HLTHPLN1 != 7]\n",
    "df_selected = df_selected[df_selected.HLTHPLN1 != 9]\n",
    "df_selected.HLTHPLN1.unique()"
   ]
  },
  {
   "cell_type": "code",
   "execution_count": 417,
   "id": "df3849ff-63a8-437d-b080-29e7703f2d6c",
   "metadata": {},
   "outputs": [
    {
     "data": {
      "text/plain": [
       "array([0., 1.])"
      ]
     },
     "execution_count": 417,
     "metadata": {},
     "output_type": "execute_result"
    }
   ],
   "source": [
    "#13 MEDCOST\n",
    "# Change 2 to 0 for no, 1 is already yes\n",
    "# remove 7 for don/t know and 9 for refused\n",
    "df_selected.loc[:, 'MEDCOST'] = df_selected['MEDCOST'].replace({2:0})\n",
    "df_selected = df_selected[df_selected.MEDCOST != 7]\n",
    "df_selected = df_selected[df_selected.MEDCOST != 9]\n",
    "df_selected.MEDCOST.unique()"
   ]
  },
  {
   "cell_type": "code",
   "execution_count": 419,
   "id": "b4bde16f-b0d3-471e-aafe-cdcd3063f324",
   "metadata": {},
   "outputs": [
    {
     "data": {
      "text/plain": [
       "array([5., 3., 2., 4., 1.])"
      ]
     },
     "execution_count": 419,
     "metadata": {},
     "output_type": "execute_result"
    }
   ],
   "source": [
    "#14 GENHLTH\n",
    "# This is an ordinal variable that I want to keep (1 is Excellent -> 5 is Poor)\n",
    "# Remove 7 and 9 for don't know and refused\n",
    "df_selected = df_selected[df_selected.GENHLTH != 7]\n",
    "df_selected = df_selected[df_selected.GENHLTH != 9]\n",
    "df_selected.GENHLTH.unique()"
   ]
  },
  {
   "cell_type": "code",
   "execution_count": 421,
   "id": "3d3e8fc0-2334-4e6c-aa9f-feb1f3645ee7",
   "metadata": {},
   "outputs": [
    {
     "data": {
      "text/plain": [
       "array([18.,  0., 30.,  3.,  5., 15., 10.,  6., 20.,  2., 25.,  1., 29.,\n",
       "        4.,  7.,  8., 21., 14., 26.,  9., 16., 28., 11., 12., 24., 17.,\n",
       "       13., 23., 27., 19., 22.])"
      ]
     },
     "execution_count": 421,
     "metadata": {},
     "output_type": "execute_result"
    }
   ],
   "source": [
    "#15 MENTHLTH\n",
    "# already in days so keep that, scale will be 0-30\n",
    "# change 88 to 0 because it means none (no bad mental health days)\n",
    "# remove 77 and 99 for don't know not sure and refused\n",
    "df_selected.loc[:, 'MENTHLTH'] = df_selected['MENTHLTH'].replace({88:0})\n",
    "df_selected = df_selected[df_selected.MENTHLTH != 77]\n",
    "df_selected = df_selected[df_selected.MENTHLTH != 99]\n",
    "df_selected.MENTHLTH.unique()"
   ]
  },
  {
   "cell_type": "code",
   "execution_count": 423,
   "id": "38f750c8-e432-4a40-bece-8b42ae5a8959",
   "metadata": {},
   "outputs": [
    {
     "data": {
      "text/plain": [
       "array([15.,  0., 30.,  2., 14., 28.,  7., 20.,  3., 10.,  1.,  5., 17.,\n",
       "        4., 19.,  6., 21., 12.,  8., 25., 27., 22., 29., 24.,  9., 16.,\n",
       "       18., 23., 13., 26., 11.])"
      ]
     },
     "execution_count": 423,
     "metadata": {},
     "output_type": "execute_result"
    }
   ],
   "source": [
    "#16 PHYSHLTH\n",
    "# already in days so keep that, scale will be 0-30\n",
    "# change 88 to 0 because it means none (no bad physical health days)\n",
    "# remove 77 and 99 for don't know not sure and refused\n",
    "df_selected.loc[:, 'PHYSHLTH'] = df_selected['PHYSHLTH'].replace({88:0})\n",
    "df_selected = df_selected[df_selected.PHYSHLTH != 77]\n",
    "df_selected = df_selected[df_selected.PHYSHLTH != 99]\n",
    "df_selected.PHYSHLTH.unique()"
   ]
  },
  {
   "cell_type": "code",
   "execution_count": 425,
   "id": "5b58f947-4b5e-4987-9ef1-631bbc440ff0",
   "metadata": {},
   "outputs": [
    {
     "data": {
      "text/plain": [
       "array([1., 0.])"
      ]
     },
     "execution_count": 425,
     "metadata": {},
     "output_type": "execute_result"
    }
   ],
   "source": [
    "\n",
    "#17 DIFFWALK\n",
    "# change 2 to 0 for no. 1 is already yes\n",
    "# remove 7 and 9 for don't know not sure and refused\n",
    "df_selected.loc[:, 'DIFFWALK'] = df_selected['DIFFWALK'].replace({2:0})\n",
    "df_selected = df_selected[df_selected.DIFFWALK != 7]\n",
    "df_selected = df_selected[df_selected.DIFFWALK != 9]\n",
    "df_selected.DIFFWALK.unique()"
   ]
  },
  {
   "cell_type": "code",
   "execution_count": 427,
   "id": "4682e0e9-f846-4e80-8725-25d4565058a2",
   "metadata": {},
   "outputs": [
    {
     "data": {
      "text/plain": [
       "array([0., 1.])"
      ]
     },
     "execution_count": 427,
     "metadata": {},
     "output_type": "execute_result"
    }
   ],
   "source": [
    "#18 SEX\n",
    "# in other words - is respondent male (somewhat arbitrarily chose this change because men are at higher risk for heart disease)\n",
    "# change 2 to 0 (female as 0). Male is 1\n",
    "df_selected.loc[:, 'SEX'] = df_selected['SEX'].replace({2:0})\n",
    "df_selected.SEX.unique()"
   ]
  },
  {
   "cell_type": "code",
   "execution_count": 429,
   "id": "275ed5cc-26e5-42c2-b222-5e9fccee315e",
   "metadata": {},
   "outputs": [
    {
     "data": {
      "text/plain": [
       "array([ 9.,  7., 11., 10., 13.,  8.,  4.,  6.,  2., 12.,  5.,  1.,  3.])"
      ]
     },
     "execution_count": 429,
     "metadata": {},
     "output_type": "execute_result"
    }
   ],
   "source": [
    "#19 _AGEG5YR\n",
    "# already ordinal. 1 is 18-24 all the way up to 13 wis 80 and older. 5 year increments.\n",
    "# remove 14 because it is don't know or missing\n",
    "df_selected = df_selected[df_selected._AGEG5YR != 14]\n",
    "df_selected._AGEG5YR.unique()"
   ]
  },
  {
   "cell_type": "code",
   "execution_count": 431,
   "id": "cda26458-f837-4ee9-b09f-9cd02bd9d18a",
   "metadata": {},
   "outputs": [
    {
     "data": {
      "text/plain": [
       "array([4., 6., 3., 5., 2., 1.])"
      ]
     },
     "execution_count": 431,
     "metadata": {},
     "output_type": "execute_result"
    }
   ],
   "source": [
    "#20 EDUCA\n",
    "# This is already an ordinal variable with 1 being never attended school or kindergarten only up to 6 being college 4 years or more\n",
    "# Scale here is 1-6\n",
    "# Remove 9 for refused:\n",
    "df_selected = df_selected[df_selected.EDUCA != 9]\n",
    "df_selected.EDUCA.unique()"
   ]
  },
  {
   "cell_type": "code",
   "execution_count": 433,
   "id": "50e48ecc-ef4d-4393-a9c7-c3061614d071",
   "metadata": {},
   "outputs": [
    {
     "data": {
      "text/plain": [
       "array([3., 1., 8., 6., 4., 7., 2., 5.])"
      ]
     },
     "execution_count": 433,
     "metadata": {},
     "output_type": "execute_result"
    }
   ],
   "source": [
    "#21 INCOME2\n",
    "# Variable is already ordinal with 1 being less than $10,000 all the way up to 8 being $75,000 or more\n",
    "# Remove 77 and 99 for don't know and refused\n",
    "df_selected = df_selected[df_selected.INCOME2 != 77]\n",
    "df_selected = df_selected[df_selected.INCOME2 != 99]\n",
    "df_selected.INCOME2.unique()"
   ]
  },
  {
   "cell_type": "code",
   "execution_count": 435,
   "id": "256a71e6-1121-4374-9608-50d10df6dc68",
   "metadata": {},
   "outputs": [
    {
     "name": "stdout",
     "output_type": "stream",
     "text": [
      "[1.78 1.73 1.7  1.57 1.68 1.63 1.52 1.75 1.6  1.65 1.93 1.5  1.88 1.8\n",
      " 1.83 1.91 1.55 1.85 1.45 1.96 1.47 1.98 2.03 2.01 1.42 2.06 1.24 2.08\n",
      " 1.51 1.37 1.4  1.77 1.72 2.07 2.09 1.46 1.04 1.62 1.27 1.35 1.07 1.22\n",
      " 2.13 1.19 1.3  2.16 2.29 2.11 1.71 1.67 1.86 1.97 1.58 1.69 1.64 1.32\n",
      " 1.43 1.05 1.1  1.87 1.76 2.18 1.61 1.79 1.81 1.74 1.56 1.9  1.2  1.59\n",
      " 1.54 0.91 1.49 1.06 1.17 2.21 2.05 2.02 2.   2.1  1.53 1.14 1.66 1.02\n",
      " 1.03 1.82 1.38 2.24 1.11 1.34 1.48 1.08]\n"
     ]
    }
   ],
   "source": [
    "# Convert HEIGHT3 values by dividing by 100 to get two decimal places\n",
    "df_selected['HTM4'] = df_selected['HTM4'] / 100\n",
    "\n",
    "# Check the updated values in HEIGHT3\n",
    "print(df_selected['HTM4'].unique())\n"
   ]
  },
  {
   "cell_type": "code",
   "execution_count": 437,
   "id": "c7f56f04-a575-403b-94aa-54da8903c4ff",
   "metadata": {},
   "outputs": [
    {
     "name": "stdout",
     "output_type": "stream",
     "text": [
      "[127.01  74.84  81.65  65.77  67.13  73.03  79.38  58.06  90.72  73.94\n",
      "  78.02  82.55  58.97  61.23 104.33  53.52  88.45 105.23  72.57  63.5\n",
      " 131.54  88.9  120.66  97.52  62.6   68.04  64.86  86.18  70.76 116.12\n",
      "  83.91  72.12  92.99  66.22 117.93  60.78 108.86  59.42  54.43 120.2\n",
      "  87.09  99.79  76.2   73.48 111.13  57.15  85.73  55.34  77.11  95.25\n",
      "  56.7  113.4   87.54  70.31  80.74  84.37  94.35 124.74 102.06  69.4\n",
      "  44.91  64.41  63.96  61.69  74.39  97.07  57.61  66.68  68.95  45.36\n",
      " 103.87 133.81  78.47  46.72 110.68  81.19 106.59  89.81 122.47 117.48\n",
      " 158.76 129.27  99.34  98.43  53.07  49.9   52.16 128.82  48.99  63.05\n",
      "  92.08  75.3   90.26  91.63  50.8  103.42 149.69  54.88 101.15  71.67\n",
      "  98.88  89.36  59.87  93.89  58.51  88.    68.49 152.86  80.29  93.44\n",
      "  79.83 128.37 136.08 132.45  95.71  84.82  49.44  75.75  39.92  53.98\n",
      "  62.14 112.94  47.63  92.53  48.53 147.42 105.69 117.03 109.77  94.8\n",
      "  96.62  56.25  69.85  83.01 114.76  67.59  96.16 161.93  65.32  44.45\n",
      " 115.67  71.21  78.93 121.56 121.11 115.21 167.83  55.79 145.15 126.55\n",
      " 107.05  60.33 154.22  52.62  86.64  48.08  42.64  43.09  83.46 112.04\n",
      "  97.98 146.51 140.61 124.28 118.84  82.1  129.73  45.81 100.7   91.17\n",
      "  85.28 119.29  77.56 170.1  130.63 136.53  36.74  76.66  51.71 106.14\n",
      " 108.41 102.97 148.78 100.24 195.04 116.57 114.31  50.35 107.95  36.29\n",
      " 138.35 109.32 165.11 132.   102.51  41.73 107.5  143.79 127.91  40.82\n",
      "  83.   125.65 151.95 208.65 112.49 113.85 159.66 181.44 118.39 111.58\n",
      " 137.44 174.63 155.58 110.22 144.24 146.96 141.52 133.36  46.27 147.87\n",
      " 172.37 104.78 136.98  47.17 119.75  44.   125.19 123.38 101.6  139.71\n",
      " 123.83 163.29 153.77 134.72 142.88 176.9  156.49 122.02 173.27  51.26\n",
      " 156.04  55.   190.51 204.12 169.64 141.07 151.05 144.7   43.54 131.09\n",
      " 143.34  68.   180.53  35.83  64.   126.1   40.37  65.    85.   170.55\n",
      "  38.56  42.18  50.    35.    86.   135.17  61.   139.25 134.26 132.9\n",
      " 231.33 142.43 157.85 107.   185.97 223.62 140.16 165.56  39.46 135.62\n",
      " 130.18  39.01 153.31 137.89  74.   122.92 166.92  37.19 141.97 183.7\n",
      " 155.13 236.78  31.75 242.67 175.99 138.8   84.   171.46  59.    37.65\n",
      " 106.   195.5  150.59 179.17  41.28 150.14  70.   156.    72.    60.\n",
      "  90.   213.19  52.   164.65  57.    80.    92.    79.    62.    34.02\n",
      " 180.    94.   213.64 154.68 192.32  76.    75.   199.58  78.   261.27\n",
      " 108.    56.    82.   161.48 230.   110.   260.82  91.    38.1   63.\n",
      " 228.61 226.8  168.28 163.75  95.   127.46 249.48 179.62 164.2   34.\n",
      " 161.03 192.78 185.07  71.   272.61 135.   146.06 177.81 168.74 206.84\n",
      " 175.09  42.   230.88  35.38 189.6  148.32 125.   162.84 176.45 159.21\n",
      " 162.39 156.94  49.   229.97 230.42 273.97 160.12 174.18 149.23 220.45\n",
      " 136.   188.24 160.57  69.   145.6  215.91 182.8  207.75 158.3  185.\n",
      " 219.99 229.52 228.16 227.7  231.79 273.06 229.06 272.16 185.52 273.52\n",
      " 227.25  87.   147.   274.42 275.33 186.43 234.51  34.47 182.34 206.38\n",
      " 222.26 151.5  193.68 177.35 157.   217.72 157.4  100.   194.14 175.54\n",
      " 210.92  73.   118.    81.   180.98 173.73  58.    54.   198.22 162.\n",
      " 116.   111.   113.    29.48 214.55 289.85 224.53 121.   200.49  45.\n",
      " 178.72  32.66 211.83 172.82  47.   191.42 197.31 122.   190.96 115.\n",
      "  66.   250.   186.88 170.   150.   145.    51.   152.    30.84 180.08\n",
      " 171.   124.   244.94 239.04 166.47 169.19 207.29 166.01 158.   102.\n",
      " 178.26 152.41 205.48 200.03 195.95 233.6   97.   117.   160.   254.01\n",
      "  53.   190.   265.   280.    89.   260.   247.21  67.   205.93  93.\n",
      "  99.    33.57 220.   258.55 148.  ]\n"
     ]
    }
   ],
   "source": [
    "df_selected['WTKG3'] = df_selected['WTKG3'] / 100\n",
    "\n",
    "# Check the updated values in WTKG3\n",
    "print(df_selected['WTKG3'].unique())"
   ]
  },
  {
   "cell_type": "code",
   "execution_count": 439,
   "id": "ef5ff521-3f3b-489e-aab7-8b6d0c82d2a0",
   "metadata": {},
   "outputs": [
    {
     "data": {
      "text/plain": [
       "array([1., 0.])"
      ]
     },
     "execution_count": 439,
     "metadata": {},
     "output_type": "execute_result"
    }
   ],
   "source": [
    "# Replace 2 with 0 in the 'ADDEPEV2' column\n",
    "df_selected.loc[:, 'ADDEPEV2'] = df_selected['ADDEPEV2'].replace({2: 0})\n",
    "\n",
    "# Remove rows where 'TOLDHI2' is 7 or 9\n",
    "df_selected = df_selected[df_selected['ADDEPEV2'] != 7]\n",
    "df_selected = df_selected[df_selected['ADDEPEV2'] != 9]\n",
    "\n",
    "\n",
    "# Check unique values in 'TOLDHI2'\n",
    "df_selected['ADDEPEV2'].unique()"
   ]
  },
  {
   "cell_type": "code",
   "execution_count": 441,
   "id": "d7d37f58-03dc-463f-ac3f-2881e539759a",
   "metadata": {},
   "outputs": [
    {
     "data": {
      "text/plain": [
       "(255189, 25)"
      ]
     },
     "execution_count": 441,
     "metadata": {},
     "output_type": "execute_result"
    }
   ],
   "source": [
    "df_selected.shape"
   ]
  },
  {
   "cell_type": "code",
   "execution_count": 447,
   "id": "6974c66d-5629-4c47-a0a5-be31d3e05f35",
   "metadata": {},
   "outputs": [],
   "source": [
    "#Rename the columns to make them more readable\n",
    "df = df_selected.rename(columns = {'_MICHD':'HeartDiseaseorAttack', \n",
    "                                         '_RFHYPE5':'HighBP',  \n",
    "                                        'WTKG3': 'Weight',\n",
    "                                           'HTM4': 'Height',\n",
    "                                         'TOLDHI2':'HighChol', \n",
    "                                         '_BMI5':'BMI', \n",
    "                                         'SMOKE100':'Smoker', \n",
    "                                         'CVDSTRK3':'Stroke', 'DIABETE3':'Diabetes', \n",
    "                                         '_TOTINDA':'PhysActivity', \n",
    "                                         '_FRTLT1':'Fruits', '_VEGLT1':'Vegetables', \n",
    "                                         '_RFDRHV5':'HvyAlcoholConsump', \n",
    "                                         'HLTHPLN1':'AnyHealthcare', 'MEDCOST':'NoDocbcCost', \n",
    "                                         'GENHLTH':'GenHlth', 'MENTHLTH':'MentHlth', 'PHYSHLTH':'PhysHlth', 'DIFFWALK':'DiffWalk', \n",
    "                                         'SEX':'Sex', '_AGEG5YR':'Age', 'EDUCA':'Education', 'INCOME2':'Income' })"
   ]
  },
  {
   "cell_type": "code",
   "execution_count": 449,
   "id": "014ca0da-6009-4ee2-b102-efb7c27232fd",
   "metadata": {},
   "outputs": [
    {
     "data": {
      "text/html": [
       "<div>\n",
       "<style scoped>\n",
       "    .dataframe tbody tr th:only-of-type {\n",
       "        vertical-align: middle;\n",
       "    }\n",
       "\n",
       "    .dataframe tbody tr th {\n",
       "        vertical-align: top;\n",
       "    }\n",
       "\n",
       "    .dataframe thead th {\n",
       "        text-align: right;\n",
       "    }\n",
       "</style>\n",
       "<table border=\"1\" class=\"dataframe\">\n",
       "  <thead>\n",
       "    <tr style=\"text-align: right;\">\n",
       "      <th></th>\n",
       "      <th>HeartDiseaseorAttack</th>\n",
       "      <th>Age</th>\n",
       "      <th>Sex</th>\n",
       "      <th>Weight</th>\n",
       "      <th>Height</th>\n",
       "      <th>HighChol</th>\n",
       "      <th>HighBP</th>\n",
       "      <th>Stroke</th>\n",
       "      <th>Education</th>\n",
       "      <th>Income</th>\n",
       "      <th>...</th>\n",
       "      <th>AnyHealthcare</th>\n",
       "      <th>NoDocbcCost</th>\n",
       "      <th>GenHlth</th>\n",
       "      <th>MentHlth</th>\n",
       "      <th>PhysHlth</th>\n",
       "      <th>BMI</th>\n",
       "      <th>HvyAlcoholConsump</th>\n",
       "      <th>Fruits</th>\n",
       "      <th>Vegetables</th>\n",
       "      <th>PhysActivity</th>\n",
       "    </tr>\n",
       "  </thead>\n",
       "  <tbody>\n",
       "    <tr>\n",
       "      <th>0</th>\n",
       "      <td>0.0</td>\n",
       "      <td>9.0</td>\n",
       "      <td>0.0</td>\n",
       "      <td>127.01</td>\n",
       "      <td>1.78</td>\n",
       "      <td>1.0</td>\n",
       "      <td>1.0</td>\n",
       "      <td>0.0</td>\n",
       "      <td>4.0</td>\n",
       "      <td>3.0</td>\n",
       "      <td>...</td>\n",
       "      <td>1.0</td>\n",
       "      <td>0.0</td>\n",
       "      <td>5.0</td>\n",
       "      <td>18.0</td>\n",
       "      <td>15.0</td>\n",
       "      <td>40.0</td>\n",
       "      <td>0.0</td>\n",
       "      <td>0.0</td>\n",
       "      <td>1.0</td>\n",
       "      <td>0.0</td>\n",
       "    </tr>\n",
       "    <tr>\n",
       "      <th>1</th>\n",
       "      <td>0.0</td>\n",
       "      <td>7.0</td>\n",
       "      <td>0.0</td>\n",
       "      <td>74.84</td>\n",
       "      <td>1.73</td>\n",
       "      <td>0.0</td>\n",
       "      <td>0.0</td>\n",
       "      <td>0.0</td>\n",
       "      <td>6.0</td>\n",
       "      <td>1.0</td>\n",
       "      <td>...</td>\n",
       "      <td>0.0</td>\n",
       "      <td>1.0</td>\n",
       "      <td>3.0</td>\n",
       "      <td>0.0</td>\n",
       "      <td>0.0</td>\n",
       "      <td>25.0</td>\n",
       "      <td>0.0</td>\n",
       "      <td>0.0</td>\n",
       "      <td>0.0</td>\n",
       "      <td>1.0</td>\n",
       "    </tr>\n",
       "    <tr>\n",
       "      <th>3</th>\n",
       "      <td>0.0</td>\n",
       "      <td>9.0</td>\n",
       "      <td>0.0</td>\n",
       "      <td>81.65</td>\n",
       "      <td>1.70</td>\n",
       "      <td>1.0</td>\n",
       "      <td>1.0</td>\n",
       "      <td>0.0</td>\n",
       "      <td>4.0</td>\n",
       "      <td>8.0</td>\n",
       "      <td>...</td>\n",
       "      <td>1.0</td>\n",
       "      <td>1.0</td>\n",
       "      <td>5.0</td>\n",
       "      <td>30.0</td>\n",
       "      <td>30.0</td>\n",
       "      <td>28.0</td>\n",
       "      <td>0.0</td>\n",
       "      <td>1.0</td>\n",
       "      <td>0.0</td>\n",
       "      <td>0.0</td>\n",
       "    </tr>\n",
       "    <tr>\n",
       "      <th>5</th>\n",
       "      <td>0.0</td>\n",
       "      <td>11.0</td>\n",
       "      <td>0.0</td>\n",
       "      <td>65.77</td>\n",
       "      <td>1.57</td>\n",
       "      <td>0.0</td>\n",
       "      <td>1.0</td>\n",
       "      <td>0.0</td>\n",
       "      <td>3.0</td>\n",
       "      <td>6.0</td>\n",
       "      <td>...</td>\n",
       "      <td>1.0</td>\n",
       "      <td>0.0</td>\n",
       "      <td>2.0</td>\n",
       "      <td>0.0</td>\n",
       "      <td>0.0</td>\n",
       "      <td>27.0</td>\n",
       "      <td>0.0</td>\n",
       "      <td>1.0</td>\n",
       "      <td>1.0</td>\n",
       "      <td>1.0</td>\n",
       "    </tr>\n",
       "    <tr>\n",
       "      <th>6</th>\n",
       "      <td>0.0</td>\n",
       "      <td>11.0</td>\n",
       "      <td>0.0</td>\n",
       "      <td>67.13</td>\n",
       "      <td>1.68</td>\n",
       "      <td>1.0</td>\n",
       "      <td>1.0</td>\n",
       "      <td>0.0</td>\n",
       "      <td>5.0</td>\n",
       "      <td>4.0</td>\n",
       "      <td>...</td>\n",
       "      <td>1.0</td>\n",
       "      <td>0.0</td>\n",
       "      <td>2.0</td>\n",
       "      <td>3.0</td>\n",
       "      <td>0.0</td>\n",
       "      <td>24.0</td>\n",
       "      <td>0.0</td>\n",
       "      <td>1.0</td>\n",
       "      <td>1.0</td>\n",
       "      <td>1.0</td>\n",
       "    </tr>\n",
       "    <tr>\n",
       "      <th>...</th>\n",
       "      <td>...</td>\n",
       "      <td>...</td>\n",
       "      <td>...</td>\n",
       "      <td>...</td>\n",
       "      <td>...</td>\n",
       "      <td>...</td>\n",
       "      <td>...</td>\n",
       "      <td>...</td>\n",
       "      <td>...</td>\n",
       "      <td>...</td>\n",
       "      <td>...</td>\n",
       "      <td>...</td>\n",
       "      <td>...</td>\n",
       "      <td>...</td>\n",
       "      <td>...</td>\n",
       "      <td>...</td>\n",
       "      <td>...</td>\n",
       "      <td>...</td>\n",
       "      <td>...</td>\n",
       "      <td>...</td>\n",
       "      <td>...</td>\n",
       "    </tr>\n",
       "    <tr>\n",
       "      <th>441450</th>\n",
       "      <td>0.0</td>\n",
       "      <td>5.0</td>\n",
       "      <td>1.0</td>\n",
       "      <td>163.29</td>\n",
       "      <td>1.91</td>\n",
       "      <td>1.0</td>\n",
       "      <td>1.0</td>\n",
       "      <td>0.0</td>\n",
       "      <td>6.0</td>\n",
       "      <td>7.0</td>\n",
       "      <td>...</td>\n",
       "      <td>1.0</td>\n",
       "      <td>0.0</td>\n",
       "      <td>3.0</td>\n",
       "      <td>0.0</td>\n",
       "      <td>5.0</td>\n",
       "      <td>45.0</td>\n",
       "      <td>0.0</td>\n",
       "      <td>1.0</td>\n",
       "      <td>1.0</td>\n",
       "      <td>0.0</td>\n",
       "    </tr>\n",
       "    <tr>\n",
       "      <th>441451</th>\n",
       "      <td>0.0</td>\n",
       "      <td>11.0</td>\n",
       "      <td>0.0</td>\n",
       "      <td>47.17</td>\n",
       "      <td>1.60</td>\n",
       "      <td>1.0</td>\n",
       "      <td>1.0</td>\n",
       "      <td>0.0</td>\n",
       "      <td>2.0</td>\n",
       "      <td>4.0</td>\n",
       "      <td>...</td>\n",
       "      <td>1.0</td>\n",
       "      <td>0.0</td>\n",
       "      <td>4.0</td>\n",
       "      <td>0.0</td>\n",
       "      <td>0.0</td>\n",
       "      <td>18.0</td>\n",
       "      <td>0.0</td>\n",
       "      <td>0.0</td>\n",
       "      <td>0.0</td>\n",
       "      <td>0.0</td>\n",
       "    </tr>\n",
       "    <tr>\n",
       "      <th>441452</th>\n",
       "      <td>0.0</td>\n",
       "      <td>2.0</td>\n",
       "      <td>0.0</td>\n",
       "      <td>72.57</td>\n",
       "      <td>1.60</td>\n",
       "      <td>0.0</td>\n",
       "      <td>0.0</td>\n",
       "      <td>0.0</td>\n",
       "      <td>5.0</td>\n",
       "      <td>2.0</td>\n",
       "      <td>...</td>\n",
       "      <td>1.0</td>\n",
       "      <td>0.0</td>\n",
       "      <td>1.0</td>\n",
       "      <td>0.0</td>\n",
       "      <td>0.0</td>\n",
       "      <td>28.0</td>\n",
       "      <td>0.0</td>\n",
       "      <td>1.0</td>\n",
       "      <td>0.0</td>\n",
       "      <td>1.0</td>\n",
       "    </tr>\n",
       "    <tr>\n",
       "      <th>441454</th>\n",
       "      <td>0.0</td>\n",
       "      <td>7.0</td>\n",
       "      <td>1.0</td>\n",
       "      <td>75.30</td>\n",
       "      <td>1.80</td>\n",
       "      <td>0.0</td>\n",
       "      <td>1.0</td>\n",
       "      <td>0.0</td>\n",
       "      <td>5.0</td>\n",
       "      <td>1.0</td>\n",
       "      <td>...</td>\n",
       "      <td>1.0</td>\n",
       "      <td>0.0</td>\n",
       "      <td>3.0</td>\n",
       "      <td>0.0</td>\n",
       "      <td>0.0</td>\n",
       "      <td>23.0</td>\n",
       "      <td>0.0</td>\n",
       "      <td>1.0</td>\n",
       "      <td>1.0</td>\n",
       "      <td>0.0</td>\n",
       "    </tr>\n",
       "    <tr>\n",
       "      <th>441455</th>\n",
       "      <td>1.0</td>\n",
       "      <td>9.0</td>\n",
       "      <td>0.0</td>\n",
       "      <td>61.23</td>\n",
       "      <td>1.57</td>\n",
       "      <td>1.0</td>\n",
       "      <td>1.0</td>\n",
       "      <td>0.0</td>\n",
       "      <td>6.0</td>\n",
       "      <td>2.0</td>\n",
       "      <td>...</td>\n",
       "      <td>1.0</td>\n",
       "      <td>0.0</td>\n",
       "      <td>2.0</td>\n",
       "      <td>0.0</td>\n",
       "      <td>0.0</td>\n",
       "      <td>25.0</td>\n",
       "      <td>0.0</td>\n",
       "      <td>1.0</td>\n",
       "      <td>0.0</td>\n",
       "      <td>1.0</td>\n",
       "    </tr>\n",
       "  </tbody>\n",
       "</table>\n",
       "<p>255189 rows × 25 columns</p>\n",
       "</div>"
      ],
      "text/plain": [
       "        HeartDiseaseorAttack   Age  Sex  Weight  Height  HighChol  HighBP  \\\n",
       "0                        0.0   9.0  0.0  127.01    1.78       1.0     1.0   \n",
       "1                        0.0   7.0  0.0   74.84    1.73       0.0     0.0   \n",
       "3                        0.0   9.0  0.0   81.65    1.70       1.0     1.0   \n",
       "5                        0.0  11.0  0.0   65.77    1.57       0.0     1.0   \n",
       "6                        0.0  11.0  0.0   67.13    1.68       1.0     1.0   \n",
       "...                      ...   ...  ...     ...     ...       ...     ...   \n",
       "441450                   0.0   5.0  1.0  163.29    1.91       1.0     1.0   \n",
       "441451                   0.0  11.0  0.0   47.17    1.60       1.0     1.0   \n",
       "441452                   0.0   2.0  0.0   72.57    1.60       0.0     0.0   \n",
       "441454                   0.0   7.0  1.0   75.30    1.80       0.0     1.0   \n",
       "441455                   1.0   9.0  0.0   61.23    1.57       1.0     1.0   \n",
       "\n",
       "        Stroke  Education  Income  ...  AnyHealthcare  NoDocbcCost  GenHlth  \\\n",
       "0          0.0        4.0     3.0  ...            1.0          0.0      5.0   \n",
       "1          0.0        6.0     1.0  ...            0.0          1.0      3.0   \n",
       "3          0.0        4.0     8.0  ...            1.0          1.0      5.0   \n",
       "5          0.0        3.0     6.0  ...            1.0          0.0      2.0   \n",
       "6          0.0        5.0     4.0  ...            1.0          0.0      2.0   \n",
       "...        ...        ...     ...  ...            ...          ...      ...   \n",
       "441450     0.0        6.0     7.0  ...            1.0          0.0      3.0   \n",
       "441451     0.0        2.0     4.0  ...            1.0          0.0      4.0   \n",
       "441452     0.0        5.0     2.0  ...            1.0          0.0      1.0   \n",
       "441454     0.0        5.0     1.0  ...            1.0          0.0      3.0   \n",
       "441455     0.0        6.0     2.0  ...            1.0          0.0      2.0   \n",
       "\n",
       "        MentHlth  PhysHlth   BMI  HvyAlcoholConsump  Fruits  Vegetables  \\\n",
       "0           18.0      15.0  40.0                0.0     0.0         1.0   \n",
       "1            0.0       0.0  25.0                0.0     0.0         0.0   \n",
       "3           30.0      30.0  28.0                0.0     1.0         0.0   \n",
       "5            0.0       0.0  27.0                0.0     1.0         1.0   \n",
       "6            3.0       0.0  24.0                0.0     1.0         1.0   \n",
       "...          ...       ...   ...                ...     ...         ...   \n",
       "441450       0.0       5.0  45.0                0.0     1.0         1.0   \n",
       "441451       0.0       0.0  18.0                0.0     0.0         0.0   \n",
       "441452       0.0       0.0  28.0                0.0     1.0         0.0   \n",
       "441454       0.0       0.0  23.0                0.0     1.0         1.0   \n",
       "441455       0.0       0.0  25.0                0.0     1.0         0.0   \n",
       "\n",
       "        PhysActivity  \n",
       "0                0.0  \n",
       "1                1.0  \n",
       "3                0.0  \n",
       "5                1.0  \n",
       "6                1.0  \n",
       "...              ...  \n",
       "441450           0.0  \n",
       "441451           0.0  \n",
       "441452           1.0  \n",
       "441454           0.0  \n",
       "441455           1.0  \n",
       "\n",
       "[255189 rows x 25 columns]"
      ]
     },
     "execution_count": 449,
     "metadata": {},
     "output_type": "execute_result"
    }
   ],
   "source": [
    "df"
   ]
  },
  {
   "cell_type": "code",
   "execution_count": 455,
   "id": "72a96cfc-367a-4b7d-98ef-5af9d48a6ba9",
   "metadata": {},
   "outputs": [
    {
     "data": {
      "text/plain": [
       "False"
      ]
     },
     "execution_count": 455,
     "metadata": {},
     "output_type": "execute_result"
    }
   ],
   "source": [
    "df.isna().any().any()"
   ]
  },
  {
   "cell_type": "code",
   "execution_count": 457,
   "id": "ebe9a2fa-b8ed-4204-bb5a-96cd7c44f975",
   "metadata": {},
   "outputs": [
    {
     "data": {
      "text/html": [
       "<div>\n",
       "<style scoped>\n",
       "    .dataframe tbody tr th:only-of-type {\n",
       "        vertical-align: middle;\n",
       "    }\n",
       "\n",
       "    .dataframe tbody tr th {\n",
       "        vertical-align: top;\n",
       "    }\n",
       "\n",
       "    .dataframe thead th {\n",
       "        text-align: right;\n",
       "    }\n",
       "</style>\n",
       "<table border=\"1\" class=\"dataframe\">\n",
       "  <thead>\n",
       "    <tr style=\"text-align: right;\">\n",
       "      <th></th>\n",
       "      <th>HeartDiseaseorAttack</th>\n",
       "      <th>Age</th>\n",
       "      <th>Sex</th>\n",
       "      <th>Weight</th>\n",
       "      <th>Height</th>\n",
       "      <th>HighChol</th>\n",
       "      <th>HighBP</th>\n",
       "      <th>Stroke</th>\n",
       "      <th>Education</th>\n",
       "      <th>Income</th>\n",
       "      <th>...</th>\n",
       "      <th>AnyHealthcare</th>\n",
       "      <th>NoDocbcCost</th>\n",
       "      <th>GenHlth</th>\n",
       "      <th>MentHlth</th>\n",
       "      <th>PhysHlth</th>\n",
       "      <th>BMI</th>\n",
       "      <th>HvyAlcoholConsump</th>\n",
       "      <th>Fruits</th>\n",
       "      <th>Vegetables</th>\n",
       "      <th>PhysActivity</th>\n",
       "    </tr>\n",
       "  </thead>\n",
       "  <tbody>\n",
       "    <tr>\n",
       "      <th>0</th>\n",
       "      <td>0.0</td>\n",
       "      <td>9.0</td>\n",
       "      <td>0.0</td>\n",
       "      <td>127.01</td>\n",
       "      <td>1.78</td>\n",
       "      <td>1.0</td>\n",
       "      <td>1.0</td>\n",
       "      <td>0.0</td>\n",
       "      <td>4.0</td>\n",
       "      <td>3.0</td>\n",
       "      <td>...</td>\n",
       "      <td>1.0</td>\n",
       "      <td>0.0</td>\n",
       "      <td>5.0</td>\n",
       "      <td>18.0</td>\n",
       "      <td>15.0</td>\n",
       "      <td>40.0</td>\n",
       "      <td>0.0</td>\n",
       "      <td>0.0</td>\n",
       "      <td>1.0</td>\n",
       "      <td>0.0</td>\n",
       "    </tr>\n",
       "    <tr>\n",
       "      <th>1</th>\n",
       "      <td>0.0</td>\n",
       "      <td>7.0</td>\n",
       "      <td>0.0</td>\n",
       "      <td>74.84</td>\n",
       "      <td>1.73</td>\n",
       "      <td>0.0</td>\n",
       "      <td>0.0</td>\n",
       "      <td>0.0</td>\n",
       "      <td>6.0</td>\n",
       "      <td>1.0</td>\n",
       "      <td>...</td>\n",
       "      <td>0.0</td>\n",
       "      <td>1.0</td>\n",
       "      <td>3.0</td>\n",
       "      <td>0.0</td>\n",
       "      <td>0.0</td>\n",
       "      <td>25.0</td>\n",
       "      <td>0.0</td>\n",
       "      <td>0.0</td>\n",
       "      <td>0.0</td>\n",
       "      <td>1.0</td>\n",
       "    </tr>\n",
       "    <tr>\n",
       "      <th>3</th>\n",
       "      <td>0.0</td>\n",
       "      <td>9.0</td>\n",
       "      <td>0.0</td>\n",
       "      <td>81.65</td>\n",
       "      <td>1.70</td>\n",
       "      <td>1.0</td>\n",
       "      <td>1.0</td>\n",
       "      <td>0.0</td>\n",
       "      <td>4.0</td>\n",
       "      <td>8.0</td>\n",
       "      <td>...</td>\n",
       "      <td>1.0</td>\n",
       "      <td>1.0</td>\n",
       "      <td>5.0</td>\n",
       "      <td>30.0</td>\n",
       "      <td>30.0</td>\n",
       "      <td>28.0</td>\n",
       "      <td>0.0</td>\n",
       "      <td>1.0</td>\n",
       "      <td>0.0</td>\n",
       "      <td>0.0</td>\n",
       "    </tr>\n",
       "    <tr>\n",
       "      <th>5</th>\n",
       "      <td>0.0</td>\n",
       "      <td>11.0</td>\n",
       "      <td>0.0</td>\n",
       "      <td>65.77</td>\n",
       "      <td>1.57</td>\n",
       "      <td>0.0</td>\n",
       "      <td>1.0</td>\n",
       "      <td>0.0</td>\n",
       "      <td>3.0</td>\n",
       "      <td>6.0</td>\n",
       "      <td>...</td>\n",
       "      <td>1.0</td>\n",
       "      <td>0.0</td>\n",
       "      <td>2.0</td>\n",
       "      <td>0.0</td>\n",
       "      <td>0.0</td>\n",
       "      <td>27.0</td>\n",
       "      <td>0.0</td>\n",
       "      <td>1.0</td>\n",
       "      <td>1.0</td>\n",
       "      <td>1.0</td>\n",
       "    </tr>\n",
       "    <tr>\n",
       "      <th>6</th>\n",
       "      <td>0.0</td>\n",
       "      <td>11.0</td>\n",
       "      <td>0.0</td>\n",
       "      <td>67.13</td>\n",
       "      <td>1.68</td>\n",
       "      <td>1.0</td>\n",
       "      <td>1.0</td>\n",
       "      <td>0.0</td>\n",
       "      <td>5.0</td>\n",
       "      <td>4.0</td>\n",
       "      <td>...</td>\n",
       "      <td>1.0</td>\n",
       "      <td>0.0</td>\n",
       "      <td>2.0</td>\n",
       "      <td>3.0</td>\n",
       "      <td>0.0</td>\n",
       "      <td>24.0</td>\n",
       "      <td>0.0</td>\n",
       "      <td>1.0</td>\n",
       "      <td>1.0</td>\n",
       "      <td>1.0</td>\n",
       "    </tr>\n",
       "  </tbody>\n",
       "</table>\n",
       "<p>5 rows × 25 columns</p>\n",
       "</div>"
      ],
      "text/plain": [
       "   HeartDiseaseorAttack   Age  Sex  Weight  Height  HighChol  HighBP  Stroke  \\\n",
       "0                   0.0   9.0  0.0  127.01    1.78       1.0     1.0     0.0   \n",
       "1                   0.0   7.0  0.0   74.84    1.73       0.0     0.0     0.0   \n",
       "3                   0.0   9.0  0.0   81.65    1.70       1.0     1.0     0.0   \n",
       "5                   0.0  11.0  0.0   65.77    1.57       0.0     1.0     0.0   \n",
       "6                   0.0  11.0  0.0   67.13    1.68       1.0     1.0     0.0   \n",
       "\n",
       "   Education  Income  ...  AnyHealthcare  NoDocbcCost  GenHlth  MentHlth  \\\n",
       "0        4.0     3.0  ...            1.0          0.0      5.0      18.0   \n",
       "1        6.0     1.0  ...            0.0          1.0      3.0       0.0   \n",
       "3        4.0     8.0  ...            1.0          1.0      5.0      30.0   \n",
       "5        3.0     6.0  ...            1.0          0.0      2.0       0.0   \n",
       "6        5.0     4.0  ...            1.0          0.0      2.0       3.0   \n",
       "\n",
       "   PhysHlth   BMI  HvyAlcoholConsump  Fruits  Vegetables  PhysActivity  \n",
       "0      15.0  40.0                0.0     0.0         1.0           0.0  \n",
       "1       0.0  25.0                0.0     0.0         0.0           1.0  \n",
       "3      30.0  28.0                0.0     1.0         0.0           0.0  \n",
       "5       0.0  27.0                0.0     1.0         1.0           1.0  \n",
       "6       0.0  24.0                0.0     1.0         1.0           1.0  \n",
       "\n",
       "[5 rows x 25 columns]"
      ]
     },
     "execution_count": 457,
     "metadata": {},
     "output_type": "execute_result"
    }
   ],
   "source": [
    "df.head()"
   ]
  },
  {
   "cell_type": "code",
   "execution_count": 460,
   "id": "4ae0f027-5b36-4bd4-b2fe-f15c975850c7",
   "metadata": {},
   "outputs": [
    {
     "data": {
      "text/plain": [
       "(255189, 25)"
      ]
     },
     "execution_count": 460,
     "metadata": {},
     "output_type": "execute_result"
    }
   ],
   "source": [
    "df.shape"
   ]
  },
  {
   "cell_type": "code",
   "execution_count": 464,
   "id": "3bf399c9-3f32-4ad8-8c80-f48e161ca139",
   "metadata": {},
   "outputs": [],
   "source": [
    "df.to_csv('2015_Cleaned.csv', index = False)"
   ]
  }
 ],
 "metadata": {
  "kernelspec": {
   "display_name": "Python 3 (ipykernel)",
   "language": "python",
   "name": "python3"
  },
  "language_info": {
   "codemirror_mode": {
    "name": "ipython",
    "version": 3
   },
   "file_extension": ".py",
   "mimetype": "text/x-python",
   "name": "python",
   "nbconvert_exporter": "python",
   "pygments_lexer": "ipython3",
   "version": "3.12.4"
  }
 },
 "nbformat": 4,
 "nbformat_minor": 5
}
